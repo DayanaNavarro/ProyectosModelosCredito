{
 "cells": [
  {
   "cell_type": "markdown",
   "metadata": {},
   "source": [
    "<center> <img style=\"float:center ; margin: 0px 0px 15px 15px;\" src=\"https://upload.wikimedia.org/wikipedia/commons/8/84/LogodelITESO.jpg\" height=\"100px\" />"
   ]
  },
  {
   "cell_type": "markdown",
   "metadata": {},
   "source": [
    "<center><font color=#555555><font size=6> PROYECTO FINAL. Modelos de Crédito </font> <br> <br>"
   ]
  },
  {
   "cell_type": "markdown",
   "metadata": {},
   "source": [
    "<center><font color=#555555><font size=4>Frida María Hernández López </font> <br> <br>\n",
    "    \n",
    "<center><font color=#555555><font size=4> Alexia Marisol Díaz Verduzco</font> <br> <br>\n",
    "    \n",
    "<center><font color=#555555><font size=4> Dayana Navarro Valencia </font> <br> <br>"
   ]
  },
  {
   "cell_type": "markdown",
   "metadata": {},
   "source": [
    "# Credit Risk - Final Simplified Project\n",
    "\n",
    "This notebooks contains a simple workflow to create a predictive model to estimate the `prob_of_default` and a methodology to estimate an interest rate. \n",
    "\n",
    "Index:\n",
    "* Exporatory Data Analysis\n",
    "* Data Preparation\n",
    "* Training\n",
    "* Predictions\n",
    "* Model Alternatives\n",
    "* Intereste Rate"
   ]
  },
  {
   "cell_type": "markdown",
   "metadata": {},
   "source": [
    "Use your teams to answer the questions available in this jupyter-notebook.\n",
    "\n",
    "Questions:\n",
    "    \n",
    "* **Q1 (1 pts)** Exploratory data analysis - simple independent variable analysis\n",
    "* **Q2 (1 pts)** Data Preparation - WOE visualization\n",
    "* **Q3 (1 pts)** Training - Scores Histogram\n",
    "* **Q4 (2 pts)** Predictions - Find best configurations\n",
    "* **Q5 (3 pts)** Model Alternatives - Benchmarking\n",
    "* **Q6 (2 pts)** Intereste Rate - Enhanced Amortization Table\n",
    "* **Q7 (2 pts)** Intereste Rate - Expected IRR\n",
    "* **Q8 (4 pts)** Intereste Rate - Search Optimal Rate\n"
   ]
  },
  {
   "cell_type": "code",
   "execution_count": 3,
   "metadata": {},
   "outputs": [
    {
     "data": {
      "text/html": [
       "<div>\n",
       "<style scoped>\n",
       "    .dataframe tbody tr th:only-of-type {\n",
       "        vertical-align: middle;\n",
       "    }\n",
       "\n",
       "    .dataframe tbody tr th {\n",
       "        vertical-align: top;\n",
       "    }\n",
       "\n",
       "    .dataframe thead th {\n",
       "        text-align: right;\n",
       "    }\n",
       "</style>\n",
       "<table border=\"1\" class=\"dataframe\">\n",
       "  <thead>\n",
       "    <tr style=\"text-align: right;\">\n",
       "      <th></th>\n",
       "      <th>customer_age</th>\n",
       "      <th>months_at_address</th>\n",
       "      <th>residence_status</th>\n",
       "      <th>employment</th>\n",
       "      <th>income</th>\n",
       "      <th>months_with_bank</th>\n",
       "      <th>other_credits</th>\n",
       "      <th>balance</th>\n",
       "      <th>status</th>\n",
       "    </tr>\n",
       "  </thead>\n",
       "  <tbody>\n",
       "    <tr>\n",
       "      <th>0</th>\n",
       "      <td>53</td>\n",
       "      <td>62</td>\n",
       "      <td>Tenant</td>\n",
       "      <td>Unknown</td>\n",
       "      <td>50000</td>\n",
       "      <td>55</td>\n",
       "      <td>Yes</td>\n",
       "      <td>1055.90</td>\n",
       "      <td>0</td>\n",
       "    </tr>\n",
       "    <tr>\n",
       "      <th>1</th>\n",
       "      <td>61</td>\n",
       "      <td>22</td>\n",
       "      <td>HomeOwner</td>\n",
       "      <td>Employed</td>\n",
       "      <td>52000</td>\n",
       "      <td>25</td>\n",
       "      <td>Yes</td>\n",
       "      <td>1161.60</td>\n",
       "      <td>0</td>\n",
       "    </tr>\n",
       "    <tr>\n",
       "      <th>2</th>\n",
       "      <td>47</td>\n",
       "      <td>30</td>\n",
       "      <td>Tenant</td>\n",
       "      <td>Employed</td>\n",
       "      <td>37000</td>\n",
       "      <td>61</td>\n",
       "      <td>No</td>\n",
       "      <td>877.23</td>\n",
       "      <td>0</td>\n",
       "    </tr>\n",
       "    <tr>\n",
       "      <th>3</th>\n",
       "      <td>50</td>\n",
       "      <td>75</td>\n",
       "      <td>HomeOwner</td>\n",
       "      <td>Employed</td>\n",
       "      <td>53000</td>\n",
       "      <td>20</td>\n",
       "      <td>Yes</td>\n",
       "      <td>157.37</td>\n",
       "      <td>0</td>\n",
       "    </tr>\n",
       "    <tr>\n",
       "      <th>4</th>\n",
       "      <td>68</td>\n",
       "      <td>56</td>\n",
       "      <td>HomeOwner</td>\n",
       "      <td>Employed</td>\n",
       "      <td>53000</td>\n",
       "      <td>14</td>\n",
       "      <td>Yes</td>\n",
       "      <td>561.84</td>\n",
       "      <td>0</td>\n",
       "    </tr>\n",
       "  </tbody>\n",
       "</table>\n",
       "</div>"
      ],
      "text/plain": [
       "   customer_age  months_at_address residence_status employment  income  \\\n",
       "0            53                 62           Tenant    Unknown   50000   \n",
       "1            61                 22        HomeOwner   Employed   52000   \n",
       "2            47                 30           Tenant   Employed   37000   \n",
       "3            50                 75        HomeOwner   Employed   53000   \n",
       "4            68                 56        HomeOwner   Employed   53000   \n",
       "\n",
       "   months_with_bank other_credits  balance  status  \n",
       "0                55           Yes  1055.90       0  \n",
       "1                25           Yes  1161.60       0  \n",
       "2                61            No   877.23       0  \n",
       "3                20           Yes   157.37       0  \n",
       "4                14           Yes   561.84       0  "
      ]
     },
     "execution_count": 3,
     "metadata": {},
     "output_type": "execute_result"
    }
   ],
   "source": [
    "import sys\n",
    "import json\n",
    "from typing import List, Dict, Optional, Union\n",
    "\n",
    "import numpy as np\n",
    "import pandas as pd\n",
    "import matplotlib.pyplot as plt\n",
    "from sklearn.linear_model import LogisticRegression\n",
    "from sklearn import metrics \n",
    "\n",
    "\n",
    "# Read raw data\n",
    "raw_data = pd.read_csv(\"data.csv\").drop(\"customer_id\", axis=1)\n",
    "\n",
    "raw_data.head()"
   ]
  },
  {
   "cell_type": "code",
   "execution_count": 4,
   "metadata": {},
   "outputs": [
    {
     "data": {
      "text/html": [
       "<div>\n",
       "<style scoped>\n",
       "    .dataframe tbody tr th:only-of-type {\n",
       "        vertical-align: middle;\n",
       "    }\n",
       "\n",
       "    .dataframe tbody tr th {\n",
       "        vertical-align: top;\n",
       "    }\n",
       "\n",
       "    .dataframe thead th {\n",
       "        text-align: right;\n",
       "    }\n",
       "</style>\n",
       "<table border=\"1\" class=\"dataframe\">\n",
       "  <thead>\n",
       "    <tr style=\"text-align: right;\">\n",
       "      <th></th>\n",
       "      <th>customer_age</th>\n",
       "      <th>months_at_address</th>\n",
       "      <th>income</th>\n",
       "      <th>months_with_bank</th>\n",
       "      <th>balance</th>\n",
       "      <th>status</th>\n",
       "    </tr>\n",
       "  </thead>\n",
       "  <tbody>\n",
       "    <tr>\n",
       "      <th>count</th>\n",
       "      <td>1200.000000</td>\n",
       "      <td>1200.000000</td>\n",
       "      <td>1200.000000</td>\n",
       "      <td>1200.000000</td>\n",
       "      <td>1200.000000</td>\n",
       "      <td>1200.000000</td>\n",
       "    </tr>\n",
       "    <tr>\n",
       "      <th>mean</th>\n",
       "      <td>45.174167</td>\n",
       "      <td>41.930833</td>\n",
       "      <td>39317.500000</td>\n",
       "      <td>34.243333</td>\n",
       "      <td>803.111625</td>\n",
       "      <td>0.330833</td>\n",
       "    </tr>\n",
       "    <tr>\n",
       "      <th>std</th>\n",
       "      <td>9.834265</td>\n",
       "      <td>29.902807</td>\n",
       "      <td>8268.938255</td>\n",
       "      <td>25.189506</td>\n",
       "      <td>587.587021</td>\n",
       "      <td>0.470709</td>\n",
       "    </tr>\n",
       "    <tr>\n",
       "      <th>min</th>\n",
       "      <td>21.000000</td>\n",
       "      <td>2.000000</td>\n",
       "      <td>18000.000000</td>\n",
       "      <td>2.000000</td>\n",
       "      <td>0.210000</td>\n",
       "      <td>0.000000</td>\n",
       "    </tr>\n",
       "    <tr>\n",
       "      <th>25%</th>\n",
       "      <td>38.000000</td>\n",
       "      <td>19.000000</td>\n",
       "      <td>34000.000000</td>\n",
       "      <td>14.000000</td>\n",
       "      <td>337.492500</td>\n",
       "      <td>0.000000</td>\n",
       "    </tr>\n",
       "    <tr>\n",
       "      <th>50%</th>\n",
       "      <td>45.000000</td>\n",
       "      <td>36.000000</td>\n",
       "      <td>39000.000000</td>\n",
       "      <td>28.000000</td>\n",
       "      <td>711.685000</td>\n",
       "      <td>0.000000</td>\n",
       "    </tr>\n",
       "    <tr>\n",
       "      <th>75%</th>\n",
       "      <td>52.000000</td>\n",
       "      <td>58.000000</td>\n",
       "      <td>45000.000000</td>\n",
       "      <td>49.000000</td>\n",
       "      <td>1137.275000</td>\n",
       "      <td>1.000000</td>\n",
       "    </tr>\n",
       "    <tr>\n",
       "      <th>max</th>\n",
       "      <td>74.000000</td>\n",
       "      <td>207.000000</td>\n",
       "      <td>62000.000000</td>\n",
       "      <td>128.000000</td>\n",
       "      <td>3812.000000</td>\n",
       "      <td>1.000000</td>\n",
       "    </tr>\n",
       "  </tbody>\n",
       "</table>\n",
       "</div>"
      ],
      "text/plain": [
       "       customer_age  months_at_address        income  months_with_bank  \\\n",
       "count   1200.000000        1200.000000   1200.000000       1200.000000   \n",
       "mean      45.174167          41.930833  39317.500000         34.243333   \n",
       "std        9.834265          29.902807   8268.938255         25.189506   \n",
       "min       21.000000           2.000000  18000.000000          2.000000   \n",
       "25%       38.000000          19.000000  34000.000000         14.000000   \n",
       "50%       45.000000          36.000000  39000.000000         28.000000   \n",
       "75%       52.000000          58.000000  45000.000000         49.000000   \n",
       "max       74.000000         207.000000  62000.000000        128.000000   \n",
       "\n",
       "           balance       status  \n",
       "count  1200.000000  1200.000000  \n",
       "mean    803.111625     0.330833  \n",
       "std     587.587021     0.470709  \n",
       "min       0.210000     0.000000  \n",
       "25%     337.492500     0.000000  \n",
       "50%     711.685000     0.000000  \n",
       "75%    1137.275000     1.000000  \n",
       "max    3812.000000     1.000000  "
      ]
     },
     "execution_count": 4,
     "metadata": {},
     "output_type": "execute_result"
    }
   ],
   "source": [
    "raw_data.describe()"
   ]
  },
  {
   "cell_type": "markdown",
   "metadata": {},
   "source": [
    "## Exporatory Data Analysis\n",
    "\n",
    "#### Q1 (1 pts) Exploratory data analysis - simple independent variable analysis\n",
    "\n",
    "Select at least 4 of the independent variables and perform a simple exporatory data analysis. Be sure to provide comments and interpet the results.\n",
    "\n",
    "The independent variables (features) are:\n",
    "* customer_age\n",
    "* months_at_address\n",
    "* residence_status\n",
    "* employment\n",
    "* income\n",
    "* months_with_bank\n",
    "* other_credits\n",
    "* balance\n",
    "\n",
    "**Hint**: For guidance, consider reading steps `3` and `4` of the following [online guide](https://towardsdatascience.com/exploratory-data-analysis-tutorial-in-python-15602b417445)."
   ]
  },
  {
   "cell_type": "code",
   "execution_count": null,
   "metadata": {},
   "outputs": [],
   "source": [
    "# Your code here\n"
   ]
  },
  {
   "cell_type": "markdown",
   "metadata": {},
   "source": [
    "## Data Preparation\n",
    "\n",
    "In this section, we take the original data and transform all the continuous variables into categorical values. For this exercise, the \"binning\" strategy is already provided in a python dictionary: "
   ]
  },
  {
   "cell_type": "code",
   "execution_count": 10,
   "metadata": {},
   "outputs": [],
   "source": [
    "bins = {\n",
    "    \"customer_age\": [\n",
    "        {\n",
    "            \"label\": \"(-inf, 37)\",\n",
    "            \"max\": 37\n",
    "        },\n",
    "        {\n",
    "            \"label\": \"(37, 40)\",\n",
    "            \"max\": 40\n",
    "        },\n",
    "        {\n",
    "            \"label\": \"(40, 46)\",\n",
    "            \"max\": 46\n",
    "        },\n",
    "        {\n",
    "            \"label\": \"(46, 58)\",\n",
    "            \"max\": 58\n",
    "        },\n",
    "        {\n",
    "            \"label\": \"(58, inf)\",\n",
    "            \"max\": sys.maxsize\n",
    "        },\n",
    "    ],\n",
    "    \"income\": [\n",
    "        {\n",
    "            \"label\": \"(-inf, 29000)\",\n",
    "            \"max\": 29000\n",
    "        },\n",
    "        {\n",
    "            \"label\": \"(29000, 33000)\",\n",
    "            \"max\": 33000\n",
    "        },\n",
    "        {\n",
    "            \"label\": \"(33000, 42000)\",\n",
    "            \"max\": 42000\n",
    "        },\n",
    "        {\n",
    "            \"label\": \"(42000, 47000)\",\n",
    "            \"max\": 47000\n",
    "        },\n",
    "        {\n",
    "            \"label\": \"(47000, inf)\",\n",
    "            \"max\": sys.maxsize\n",
    "        }\n",
    "    ],\n",
    "    \"months_with_bank\": [\n",
    "        {\n",
    "            \"label\": \"(-inf, 12)\",\n",
    "            \"max\": 12\n",
    "        },\n",
    "        {\n",
    "            \"label\": \"(12, 45)\",\n",
    "            \"max\": 45\n",
    "        },\n",
    "        {\n",
    "            \"label\": \"(45, 71)\",\n",
    "            \"max\": 71\n",
    "        },\n",
    "        {\n",
    "            \"label\": \"(71, inf)\",\n",
    "            \"max\": sys.maxsize\n",
    "        },\n",
    "    ],\n",
    "    \"months_at_address\": [\n",
    "        {\n",
    "            \"label\": \"(-inf, 23)\",\n",
    "            \"max\": 23\n",
    "        },\n",
    "        {\n",
    "            \"label\": \"(23, 83)\",\n",
    "            \"max\": 83\n",
    "        },\n",
    "        {\n",
    "            \"label\": \"(83, inf)\",\n",
    "            \"max\": sys.maxsize\n",
    "        },\n",
    "    ],\n",
    "    \"balance\": [\n",
    "        {\n",
    "            \"label\": \"(-inf, 558)\",\n",
    "            \"max\": 558\n",
    "        },\n",
    "        {\n",
    "            \"label\": \"(558, 1254)\",\n",
    "            \"max\": 1254\n",
    "        },\n",
    "        {\n",
    "            \"label\": \"(1254, 1597)\",\n",
    "            \"max\": 1597\n",
    "        },\n",
    "        {\n",
    "            \"label\": \"(1597, inf)\",\n",
    "            \"max\": sys.maxsize\n",
    "        },\n",
    "    ],\n",
    "}\n"
   ]
  },
  {
   "cell_type": "markdown",
   "metadata": {},
   "source": [
    "We can create a very simple `get_label` function to serve as a map between a numeric value and its correspondant category. Notice that the `bins` dictionary is defined with the `max` value. We can use this to iteratively identify which label to assign:\n"
   ]
  },
  {
   "cell_type": "code",
   "execution_count": 11,
   "metadata": {},
   "outputs": [],
   "source": [
    "def get_label(val: float, var: str):\n",
    "    config = bins[var]\n",
    "    for bin_info in bins[var]:\n",
    "        if val <= bin_info[\"max\"]:\n",
    "            return bin_info[\"label\"]\n",
    "    return bins[var][-1][\"label\"]"
   ]
  },
  {
   "cell_type": "markdown",
   "metadata": {},
   "source": [
    "Having this function, we proceed to replace all the numeric values in our data with categories: "
   ]
  },
  {
   "cell_type": "code",
   "execution_count": 13,
   "metadata": {},
   "outputs": [
    {
     "name": "stdout",
     "output_type": "stream",
     "text": [
      "Transforming continuous variable to categorical:  customer_age\n",
      "Transforming continuous variable to categorical:  income\n",
      "Transforming continuous variable to categorical:  months_with_bank\n",
      "Transforming continuous variable to categorical:  months_at_address\n",
      "Transforming continuous variable to categorical:  balance\n"
     ]
    },
    {
     "data": {
      "text/html": [
       "<div>\n",
       "<style scoped>\n",
       "    .dataframe tbody tr th:only-of-type {\n",
       "        vertical-align: middle;\n",
       "    }\n",
       "\n",
       "    .dataframe tbody tr th {\n",
       "        vertical-align: top;\n",
       "    }\n",
       "\n",
       "    .dataframe thead th {\n",
       "        text-align: right;\n",
       "    }\n",
       "</style>\n",
       "<table border=\"1\" class=\"dataframe\">\n",
       "  <thead>\n",
       "    <tr style=\"text-align: right;\">\n",
       "      <th></th>\n",
       "      <th>customer_age</th>\n",
       "      <th>months_at_address</th>\n",
       "      <th>residence_status</th>\n",
       "      <th>employment</th>\n",
       "      <th>income</th>\n",
       "      <th>months_with_bank</th>\n",
       "      <th>other_credits</th>\n",
       "      <th>balance</th>\n",
       "      <th>status</th>\n",
       "    </tr>\n",
       "  </thead>\n",
       "  <tbody>\n",
       "    <tr>\n",
       "      <th>0</th>\n",
       "      <td>(46, 58)</td>\n",
       "      <td>(23, 83)</td>\n",
       "      <td>Tenant</td>\n",
       "      <td>Unknown</td>\n",
       "      <td>(47000, inf)</td>\n",
       "      <td>(45, 71)</td>\n",
       "      <td>Yes</td>\n",
       "      <td>(558, 1254)</td>\n",
       "      <td>0</td>\n",
       "    </tr>\n",
       "    <tr>\n",
       "      <th>1</th>\n",
       "      <td>(58, inf)</td>\n",
       "      <td>(-inf, 23)</td>\n",
       "      <td>HomeOwner</td>\n",
       "      <td>Employed</td>\n",
       "      <td>(47000, inf)</td>\n",
       "      <td>(12, 45)</td>\n",
       "      <td>Yes</td>\n",
       "      <td>(558, 1254)</td>\n",
       "      <td>0</td>\n",
       "    </tr>\n",
       "    <tr>\n",
       "      <th>2</th>\n",
       "      <td>(46, 58)</td>\n",
       "      <td>(23, 83)</td>\n",
       "      <td>Tenant</td>\n",
       "      <td>Employed</td>\n",
       "      <td>(33000, 42000)</td>\n",
       "      <td>(45, 71)</td>\n",
       "      <td>No</td>\n",
       "      <td>(558, 1254)</td>\n",
       "      <td>0</td>\n",
       "    </tr>\n",
       "    <tr>\n",
       "      <th>3</th>\n",
       "      <td>(46, 58)</td>\n",
       "      <td>(23, 83)</td>\n",
       "      <td>HomeOwner</td>\n",
       "      <td>Employed</td>\n",
       "      <td>(47000, inf)</td>\n",
       "      <td>(12, 45)</td>\n",
       "      <td>Yes</td>\n",
       "      <td>(-inf, 558)</td>\n",
       "      <td>0</td>\n",
       "    </tr>\n",
       "    <tr>\n",
       "      <th>4</th>\n",
       "      <td>(58, inf)</td>\n",
       "      <td>(23, 83)</td>\n",
       "      <td>HomeOwner</td>\n",
       "      <td>Employed</td>\n",
       "      <td>(47000, inf)</td>\n",
       "      <td>(12, 45)</td>\n",
       "      <td>Yes</td>\n",
       "      <td>(558, 1254)</td>\n",
       "      <td>0</td>\n",
       "    </tr>\n",
       "  </tbody>\n",
       "</table>\n",
       "</div>"
      ],
      "text/plain": [
       "  customer_age months_at_address residence_status employment          income  \\\n",
       "0     (46, 58)          (23, 83)           Tenant    Unknown    (47000, inf)   \n",
       "1    (58, inf)        (-inf, 23)        HomeOwner   Employed    (47000, inf)   \n",
       "2     (46, 58)          (23, 83)           Tenant   Employed  (33000, 42000)   \n",
       "3     (46, 58)          (23, 83)        HomeOwner   Employed    (47000, inf)   \n",
       "4    (58, inf)          (23, 83)        HomeOwner   Employed    (47000, inf)   \n",
       "\n",
       "  months_with_bank other_credits      balance  status  \n",
       "0         (45, 71)           Yes  (558, 1254)       0  \n",
       "1         (12, 45)           Yes  (558, 1254)       0  \n",
       "2         (45, 71)            No  (558, 1254)       0  \n",
       "3         (12, 45)           Yes  (-inf, 558)       0  \n",
       "4         (12, 45)           Yes  (558, 1254)       0  "
      ]
     },
     "execution_count": 13,
     "metadata": {},
     "output_type": "execute_result"
    }
   ],
   "source": [
    "data = raw_data.copy()\n",
    "for cont_variable in bins.keys():\n",
    "    print(\"Transforming continuous variable to categorical: \", cont_variable)\n",
    "    data[cont_variable] = [get_label(val=val, var=cont_variable) for val in data[cont_variable].values]\n",
    "    \n",
    "data.head()"
   ]
  },
  {
   "cell_type": "markdown",
   "metadata": {},
   "source": [
    "The following helper functions will facilitate calculating the `odds`, `woe` and `information value`.\n",
    "\n",
    "* `odds` - The odds contain the relation between good & bad scenarios for a given value in a category.\n",
    "* `woe` - The \"weight of evidence\" is a numerical representation of the information that a value in a given category contains. For example, if we add the result of a coin-toss to the dataset, the information of \"heads\" or \"tails\" will not be relevant, resulting in a WOE = 0.  \n",
    "* `information value` - Having the weight of evidence, we can calculate the information value of the whole category. This will indicate the \"predictive power\" of a category.\n",
    "\n",
    "For more information, review the `CR09 - PD Modeling` session."
   ]
  },
  {
   "cell_type": "code",
   "execution_count": 14,
   "metadata": {},
   "outputs": [],
   "source": [
    "def get_absolute_odds(\n",
    "    df: pd.DataFrame,\n",
    "    col: str,\n",
    "    target: str = \"status\",\n",
    "    target_mappings: Dict = {0: \"good\", 1: \"bad\"},\n",
    "    absolute_values: bool = False\n",
    "):\n",
    "    # Configuration of the target map\n",
    "    key_first, key_second =  list(target_mappings.keys())\n",
    "    # Calculate absolute odds & assign good/bad labels\n",
    "    return (\n",
    "        df.query(f\"{target}=={key_first}\")\n",
    "        .groupby(col).size().reset_index()\n",
    "        .rename(columns={0: target_mappings[key_first]})\n",
    "        .set_index(col)\n",
    "    ).join(\n",
    "        df.query(f\"{target}=={key_second}\")\n",
    "        .groupby(col).size().reset_index()\n",
    "        .rename(columns={0: target_mappings[key_second]})\n",
    "        .set_index(col)\n",
    "    ).reset_index()[[col, \"good\", \"bad\"]]\n",
    "\n",
    "\n",
    "def caclulate_relative_odds(row: pd.Series, total_good: int, total_bad: int) -> pd.Series:\n",
    "    return pd.Series(\n",
    "        {\n",
    "            **row.to_dict(),\n",
    "            \"good\": row[\"good\"] / total_good,\n",
    "            \"bad\": row[\"bad\"] / total_bad\n",
    "        }\n",
    "    )\n",
    "\n",
    "def get_odds(\n",
    "    df: pd.DataFrame,\n",
    "    col: str,\n",
    "    target: str = \"status\",\n",
    "    target_mappings: Dict = {0: \"good\", 1: \"bad\"},\n",
    "    absolute_values: bool = False\n",
    "):\n",
    "    # Configuration of the target map\n",
    "    key_first, key_second =  list(target_mappings.keys())\n",
    "    # Calculate absolute odds & assign good/bad labels\n",
    "    odds_absolute = get_absolute_odds(df, col, target, target_mappings, absolute_values)\n",
    "    if absolute_values:\n",
    "        return odds_absolute\n",
    "    # Calculate relative odds\n",
    "    total_good = odds_absolute[\"good\"].sum()\n",
    "    total_bad = odds_absolute[\"bad\"].sum()\n",
    "    return odds_absolute.apply(\n",
    "        lambda row: caclulate_relative_odds(\n",
    "            row=row,\n",
    "            total_good=total_good,\n",
    "            total_bad=total_bad\n",
    "        ),\n",
    "        axis=1\n",
    "    )\n",
    "\n",
    "def calculate_woe(row: pd.Series) -> pd.Series:\n",
    "    return pd.Series(\n",
    "        {\n",
    "            **row.to_dict(),\n",
    "            \"woe\": np.log(row[\"good\"] / row[\"bad\"]),\n",
    "            \"info_val\": (row[\"good\"] - row[\"bad\"]) * np.log(row[\"good\"] / row[\"bad\"])\n",
    "        }\n",
    "    )\n",
    "\n",
    "def get_woe(\n",
    "    df: pd.DataFrame,\n",
    "    col: str,\n",
    "    target: str = \"status\",\n",
    "    target_mappings: Dict = {0: \"good\", 1: \"bad\"}\n",
    ") -> pd.DataFrame:\n",
    "    return get_odds(df, col, target, target_mappings, absolute_values=False)\\\n",
    "        .apply(lambda row: calculate_woe(row), axis=1)\\\n",
    "        .sort_values(by=\"woe\", axis=0, ascending=True)"
   ]
  },
  {
   "cell_type": "markdown",
   "metadata": {},
   "source": [
    "We can now use the `get_woe` function to create a table with the weight-of-evidence and information-value for a given category. The following two code blocks contain the WOE value for the `employment` and `months_with_bank` categories:"
   ]
  },
  {
   "cell_type": "code",
   "execution_count": 15,
   "metadata": {},
   "outputs": [
    {
     "data": {
      "text/html": [
       "<div>\n",
       "<style scoped>\n",
       "    .dataframe tbody tr th:only-of-type {\n",
       "        vertical-align: middle;\n",
       "    }\n",
       "\n",
       "    .dataframe tbody tr th {\n",
       "        vertical-align: top;\n",
       "    }\n",
       "\n",
       "    .dataframe thead th {\n",
       "        text-align: right;\n",
       "    }\n",
       "</style>\n",
       "<table border=\"1\" class=\"dataframe\">\n",
       "  <thead>\n",
       "    <tr style=\"text-align: right;\">\n",
       "      <th></th>\n",
       "      <th>employment</th>\n",
       "      <th>good</th>\n",
       "      <th>bad</th>\n",
       "      <th>woe</th>\n",
       "      <th>info_val</th>\n",
       "    </tr>\n",
       "  </thead>\n",
       "  <tbody>\n",
       "    <tr>\n",
       "      <th>1</th>\n",
       "      <td>Unknown</td>\n",
       "      <td>0.493151</td>\n",
       "      <td>0.602015</td>\n",
       "      <td>-0.199468</td>\n",
       "      <td>0.021715</td>\n",
       "    </tr>\n",
       "    <tr>\n",
       "      <th>0</th>\n",
       "      <td>Employed</td>\n",
       "      <td>0.506849</td>\n",
       "      <td>0.397985</td>\n",
       "      <td>0.241800</td>\n",
       "      <td>0.026323</td>\n",
       "    </tr>\n",
       "  </tbody>\n",
       "</table>\n",
       "</div>"
      ],
      "text/plain": [
       "  employment      good       bad       woe  info_val\n",
       "1    Unknown  0.493151  0.602015 -0.199468  0.021715\n",
       "0   Employed  0.506849  0.397985  0.241800  0.026323"
      ]
     },
     "execution_count": 15,
     "metadata": {},
     "output_type": "execute_result"
    }
   ],
   "source": [
    "# Example: WOE values for the employment category\n",
    "get_woe(df=data, col=\"employment\")"
   ]
  },
  {
   "cell_type": "code",
   "execution_count": 16,
   "metadata": {},
   "outputs": [
    {
     "data": {
      "text/html": [
       "<div>\n",
       "<style scoped>\n",
       "    .dataframe tbody tr th:only-of-type {\n",
       "        vertical-align: middle;\n",
       "    }\n",
       "\n",
       "    .dataframe tbody tr th {\n",
       "        vertical-align: top;\n",
       "    }\n",
       "\n",
       "    .dataframe thead th {\n",
       "        text-align: right;\n",
       "    }\n",
       "</style>\n",
       "<table border=\"1\" class=\"dataframe\">\n",
       "  <thead>\n",
       "    <tr style=\"text-align: right;\">\n",
       "      <th></th>\n",
       "      <th>months_with_bank</th>\n",
       "      <th>good</th>\n",
       "      <th>bad</th>\n",
       "      <th>woe</th>\n",
       "      <th>info_val</th>\n",
       "    </tr>\n",
       "  </thead>\n",
       "  <tbody>\n",
       "    <tr>\n",
       "      <th>0</th>\n",
       "      <td>(-inf, 12)</td>\n",
       "      <td>0.195517</td>\n",
       "      <td>0.251889</td>\n",
       "      <td>-0.253343</td>\n",
       "      <td>0.014282</td>\n",
       "    </tr>\n",
       "    <tr>\n",
       "      <th>1</th>\n",
       "      <td>(12, 45)</td>\n",
       "      <td>0.476961</td>\n",
       "      <td>0.528967</td>\n",
       "      <td>-0.103491</td>\n",
       "      <td>0.005382</td>\n",
       "    </tr>\n",
       "    <tr>\n",
       "      <th>2</th>\n",
       "      <td>(45, 71)</td>\n",
       "      <td>0.211706</td>\n",
       "      <td>0.171285</td>\n",
       "      <td>0.211872</td>\n",
       "      <td>0.008564</td>\n",
       "    </tr>\n",
       "    <tr>\n",
       "      <th>3</th>\n",
       "      <td>(71, inf)</td>\n",
       "      <td>0.115816</td>\n",
       "      <td>0.047859</td>\n",
       "      <td>0.883742</td>\n",
       "      <td>0.060056</td>\n",
       "    </tr>\n",
       "  </tbody>\n",
       "</table>\n",
       "</div>"
      ],
      "text/plain": [
       "  months_with_bank      good       bad       woe  info_val\n",
       "0       (-inf, 12)  0.195517  0.251889 -0.253343  0.014282\n",
       "1         (12, 45)  0.476961  0.528967 -0.103491  0.005382\n",
       "2         (45, 71)  0.211706  0.171285  0.211872  0.008564\n",
       "3        (71, inf)  0.115816  0.047859  0.883742  0.060056"
      ]
     },
     "execution_count": 16,
     "metadata": {},
     "output_type": "execute_result"
    }
   ],
   "source": [
    "# Example: WOE values for the months_with_bank category\n",
    "get_woe(df=data, col=\"months_with_bank\")"
   ]
  },
  {
   "attachments": {
    "image-3.png": {
     "image/png": "[encoded data removed]"
    }
   },
   "cell_type": "markdown",
   "metadata": {},
   "source": [
    "#### Q2 (1 pts) Data Preparation - WOE visualization\n",
    "Create a plot to visualize the information WOE and `good/bad` values on the same chart for the `months_with_bank` category:\n",
    "* The x axis should have the categorie's values.\n",
    "* The barplots should be a stacked plot of the `good` and `bad` values\n",
    "* The `woe` should be a line plot.\n",
    "\n",
    "Example:\n",
    "\n",
    "![image-3.png](attachment:image-3.png)"
   ]
  },
  {
   "cell_type": "code",
   "execution_count": 20,
   "metadata": {},
   "outputs": [],
   "source": [
    "# Your code here\n",
    "\n",
    "labels = bank['months_with_bank']\n",
    "good = bank['good'].values\n",
    "bad = bank['bad'].values\n",
    "width = 0.35      \n",
    "\n",
    "fig, ax = plt.subplots()\n",
    "\n",
    "ax.bar(labels, good, width, label='good')\n",
    "ax.bar(labels, bad, width, bottom=good,\n",
    "       label='bad')\n",
    "\n",
    "bank['woe'].plot(secondary_y=True,color='red')\n",
    "\n",
    "ax.set_ylabel('Observation')\n",
    "ax.set_xlabel('months_with_bank')\n",
    "ax.set_title('BIN_PLOT:months_with_bank')\n",
    "ax.grid()\n",
    "ax.legend()\n",
    "\n",
    "plt.show()"
   ]
  },
  {
   "cell_type": "markdown",
   "metadata": {},
   "source": [
    "## Training"
   ]
  },
  {
   "cell_type": "markdown",
   "metadata": {},
   "source": [
    "Before training, we need to replace all the categorical values in the dataset with their WOE value. To facilitate this transformation, we can create a `WoeMapper` class.\n",
    "\n",
    "This class contains the following:\n",
    "* Initialized with the `features` (list of strings)\n",
    "* `fit` method that updates a `mapper` dictionary (relation between feature <> categories <> WOE).\n",
    "* `tranform` method that receives a dictionary or dataframe and applies the mapper over the results."
   ]
  },
  {
   "cell_type": "code",
   "execution_count": 11,
   "metadata": {},
   "outputs": [],
   "source": [
    "class WoeMapper:\n",
    "    \n",
    "    def __init__(self, features: List[str]):\n",
    "        self.features = features\n",
    "        self.mapper = {}\n",
    "        \n",
    "    def fit(self, data: pd.DataFrame) -> 'WoeMapper':\n",
    "        df = data[self.features]\n",
    "        for feature in feature_columns:\n",
    "            self.mapper[feature] = {row[feature]: row[\"woe\"] for _, row in get_woe(data, feature).iterrows()}\n",
    "        return self\n",
    "            \n",
    "    def transform(self, data: Union[Dict, pd.DataFrame]) -> pd.DataFrame:\n",
    "        if not self.mapper:\n",
    "            raise ValueError(\"Unfitted mapper detected.\")\n",
    "        if isinstance(data, dict):\n",
    "            data = pd.DataFrame([data])\n",
    "        out = pd.DataFrame([])\n",
    "        for feature in self.features:\n",
    "            out[feature] = [self.mapper[feature][val] for val in data[feature].values]\n",
    "        return pd.DataFrame(\n",
    "            {\n",
    "                feature: [self.mapper[feature][val] for val in data[feature].values]\n",
    "                for feature in self.features\n",
    "            }\n",
    "        )"
   ]
  },
  {
   "cell_type": "markdown",
   "metadata": {},
   "source": [
    "Next step is to initialize the mapper and get the training dataset:"
   ]
  },
  {
   "cell_type": "code",
   "execution_count": 12,
   "metadata": {},
   "outputs": [
    {
     "data": {
      "text/html": [
       "<div>\n",
       "<style scoped>\n",
       "    .dataframe tbody tr th:only-of-type {\n",
       "        vertical-align: middle;\n",
       "    }\n",
       "\n",
       "    .dataframe tbody tr th {\n",
       "        vertical-align: top;\n",
       "    }\n",
       "\n",
       "    .dataframe thead th {\n",
       "        text-align: right;\n",
       "    }\n",
       "</style>\n",
       "<table border=\"1\" class=\"dataframe\">\n",
       "  <thead>\n",
       "    <tr style=\"text-align: right;\">\n",
       "      <th></th>\n",
       "      <th>customer_age</th>\n",
       "      <th>months_at_address</th>\n",
       "      <th>residence_status</th>\n",
       "      <th>employment</th>\n",
       "      <th>income</th>\n",
       "      <th>months_with_bank</th>\n",
       "      <th>other_credits</th>\n",
       "      <th>balance</th>\n",
       "    </tr>\n",
       "  </thead>\n",
       "  <tbody>\n",
       "    <tr>\n",
       "      <th>0</th>\n",
       "      <td>0.235324</td>\n",
       "      <td>0.025331</td>\n",
       "      <td>-0.095564</td>\n",
       "      <td>-0.199468</td>\n",
       "      <td>0.464963</td>\n",
       "      <td>0.211872</td>\n",
       "      <td>0.053364</td>\n",
       "      <td>-0.106289</td>\n",
       "    </tr>\n",
       "    <tr>\n",
       "      <th>1</th>\n",
       "      <td>0.817051</td>\n",
       "      <td>-0.073307</td>\n",
       "      <td>0.019329</td>\n",
       "      <td>0.241800</td>\n",
       "      <td>0.464963</td>\n",
       "      <td>-0.103491</td>\n",
       "      <td>0.053364</td>\n",
       "      <td>-0.106289</td>\n",
       "    </tr>\n",
       "    <tr>\n",
       "      <th>2</th>\n",
       "      <td>0.235324</td>\n",
       "      <td>0.025331</td>\n",
       "      <td>-0.095564</td>\n",
       "      <td>0.241800</td>\n",
       "      <td>-0.002221</td>\n",
       "      <td>0.211872</td>\n",
       "      <td>-0.268316</td>\n",
       "      <td>-0.106289</td>\n",
       "    </tr>\n",
       "    <tr>\n",
       "      <th>3</th>\n",
       "      <td>0.235324</td>\n",
       "      <td>0.025331</td>\n",
       "      <td>0.019329</td>\n",
       "      <td>0.241800</td>\n",
       "      <td>0.464963</td>\n",
       "      <td>-0.103491</td>\n",
       "      <td>0.053364</td>\n",
       "      <td>0.238383</td>\n",
       "    </tr>\n",
       "    <tr>\n",
       "      <th>4</th>\n",
       "      <td>0.817051</td>\n",
       "      <td>0.025331</td>\n",
       "      <td>0.019329</td>\n",
       "      <td>0.241800</td>\n",
       "      <td>0.464963</td>\n",
       "      <td>-0.103491</td>\n",
       "      <td>0.053364</td>\n",
       "      <td>-0.106289</td>\n",
       "    </tr>\n",
       "  </tbody>\n",
       "</table>\n",
       "</div>"
      ],
      "text/plain": [
       "   customer_age  months_at_address  residence_status  employment    income  \\\n",
       "0      0.235324           0.025331         -0.095564   -0.199468  0.464963   \n",
       "1      0.817051          -0.073307          0.019329    0.241800  0.464963   \n",
       "2      0.235324           0.025331         -0.095564    0.241800 -0.002221   \n",
       "3      0.235324           0.025331          0.019329    0.241800  0.464963   \n",
       "4      0.817051           0.025331          0.019329    0.241800  0.464963   \n",
       "\n",
       "   months_with_bank  other_credits   balance  \n",
       "0          0.211872       0.053364 -0.106289  \n",
       "1         -0.103491       0.053364 -0.106289  \n",
       "2          0.211872      -0.268316 -0.106289  \n",
       "3         -0.103491       0.053364  0.238383  \n",
       "4         -0.103491       0.053364 -0.106289  "
      ]
     },
     "execution_count": 12,
     "metadata": {},
     "output_type": "execute_result"
    }
   ],
   "source": [
    "feature_columns = data.drop(\"status\", axis=1).columns.tolist()\n",
    "\n",
    "# Create WoeMapper instance and fit with data\n",
    "woe_mapper = WoeMapper(feature_columns)\n",
    "woe_mapper.fit(data)\n",
    "\n",
    "# Create training dataset\n",
    "training = woe_mapper.transform(data)\n",
    "training.head()"
   ]
  },
  {
   "cell_type": "markdown",
   "metadata": {},
   "source": [
    "We can now train our logistic regression!"
   ]
  },
  {
   "cell_type": "code",
   "execution_count": 13,
   "metadata": {},
   "outputs": [
    {
     "name": "stdout",
     "output_type": "stream",
     "text": [
      "F1 Score from logistic regression model: 0.8021\n"
     ]
    }
   ],
   "source": [
    "x = training[feature_columns]\n",
    "y = [1 if val == 0 else 0 for val in data[\"status\"].values]\n",
    "\n",
    "# Train Logistic Regression\n",
    "clf = LogisticRegression(random_state=0).fit(x, y)\n",
    "\n",
    "# Predictions\n",
    "y_pred = clf.predict(training[feature_columns])\n",
    "print(f\"F1 Score from logistic regression model: {round(metrics.f1_score(y, y_pred), 4)}\")"
   ]
  },
  {
   "cell_type": "code",
   "execution_count": 14,
   "metadata": {},
   "outputs": [
    {
     "data": {
      "text/html": [
       "<div>\n",
       "<style scoped>\n",
       "    .dataframe tbody tr th:only-of-type {\n",
       "        vertical-align: middle;\n",
       "    }\n",
       "\n",
       "    .dataframe tbody tr th {\n",
       "        vertical-align: top;\n",
       "    }\n",
       "\n",
       "    .dataframe thead th {\n",
       "        text-align: right;\n",
       "    }\n",
       "</style>\n",
       "<table border=\"1\" class=\"dataframe\">\n",
       "  <thead>\n",
       "    <tr style=\"text-align: right;\">\n",
       "      <th></th>\n",
       "      <th>y_original</th>\n",
       "      <th>y_predicted</th>\n",
       "    </tr>\n",
       "  </thead>\n",
       "  <tbody>\n",
       "    <tr>\n",
       "      <th>0</th>\n",
       "      <td>1</td>\n",
       "      <td>0.256763</td>\n",
       "    </tr>\n",
       "    <tr>\n",
       "      <th>1</th>\n",
       "      <td>1</td>\n",
       "      <td>0.168922</td>\n",
       "    </tr>\n",
       "    <tr>\n",
       "      <th>2</th>\n",
       "      <td>1</td>\n",
       "      <td>0.291992</td>\n",
       "    </tr>\n",
       "    <tr>\n",
       "      <th>3</th>\n",
       "      <td>1</td>\n",
       "      <td>0.175830</td>\n",
       "    </tr>\n",
       "    <tr>\n",
       "      <th>4</th>\n",
       "      <td>1</td>\n",
       "      <td>0.163536</td>\n",
       "    </tr>\n",
       "  </tbody>\n",
       "</table>\n",
       "</div>"
      ],
      "text/plain": [
       "   y_original  y_predicted\n",
       "0           1     0.256763\n",
       "1           1     0.168922\n",
       "2           1     0.291992\n",
       "3           1     0.175830\n",
       "4           1     0.163536"
      ]
     },
     "execution_count": 14,
     "metadata": {},
     "output_type": "execute_result"
    }
   ],
   "source": [
    "predictions = pd.DataFrame({\"y_original\": y, \"y_predicted\":  [val for val, _ in clf.predict_proba(x)]})\n",
    "predictions.head()"
   ]
  },
  {
   "cell_type": "markdown",
   "metadata": {},
   "source": [
    "The following histogram contains the frequency of the prodictions (probability scores)."
   ]
  },
  {
   "cell_type": "code",
   "execution_count": 15,
   "metadata": {},
   "outputs": [
    {
     "data": {
      "text/plain": [
       "<matplotlib.axes._subplots.AxesSubplot at 0x7ff50aca8790>"
      ]
     },
     "execution_count": 15,
     "metadata": {},
     "output_type": "execute_result"
    },
    {
     "data": {
      "image/png": "[encoded data removed]",
      "text/plain": [
       "<Figure size 432x288 with 1 Axes>"
      ]
     },
     "metadata": {
      "needs_background": "light"
     },
     "output_type": "display_data"
    }
   ],
   "source": [
    "predictions.plot.hist(\n",
    "    title=\"General Score Histogram\",\n",
    "    y=\"y_predicted\",\n",
    "    bins=10,\n",
    "    alpha=0.8\n",
    ")"
   ]
  },
  {
   "attachments": {
    "image.png": {
     "image/png": "[encoded data removed]"
    }
   },
   "cell_type": "markdown",
   "metadata": {},
   "source": [
    "#### Q3 (1 pts) Training - Scores Histogram\n",
    "\n",
    "A more representative visualization would be to divide the general histogram into 2 parts:\n",
    "* Histogram of `y_predicted` when `y_original` equals `1` (non-default).\n",
    "* Histogram of `y_predicted` when `y_original` equals `0` (default).\n",
    "\n",
    "Create the following visualization and explain how you can use this information to select a threshold:\n",
    "\n",
    "![image.png](attachment:image.png)\n",
    "\n"
   ]
  },
  {
   "cell_type": "code",
   "execution_count": 16,
   "metadata": {},
   "outputs": [],
   "source": [
    "# Your code here\n",
    "\n",
    "predictions=predictions.reset_index()\n",
    "\n",
    "y_predicted1=[]\n",
    "y_predicted0=[]\n",
    "for index, row in predictions.iterrows():\n",
    "    if row['y_original'] == 1:\n",
    "            y_predicted1.append(row['y_predicted'])\n",
    "    else:\n",
    "        y_predicted0.append(row['y_predicted'])\n",
    "\n",
    "# Your code here\n",
    "\n",
    "plt.hist(y_predicted1, bins=10, alpha=.8, color='blue')\n",
    "plt.hist(y_predicted0, bins=10, alpha=.8, color='orange')\n",
    "  \n",
    "plt.title(\"Scores Histogram\")\n",
    "plt.ylabel(\"Frecuency\")\n",
    "plt.legend(['1', '0'])\n",
    "plt.show()"
   ]
  },
  {
   "cell_type": "markdown",
   "metadata": {},
   "source": [
    "..add your answer here.."
   ]
  },
  {
   "cell_type": "markdown",
   "metadata": {},
   "source": [
    "## Predictions"
   ]
  },
  {
   "cell_type": "markdown",
   "metadata": {},
   "source": [
    "At this point, we have a `clf` model with a trained logistic regression. This means that we can start making predictions.\n",
    "\n",
    "The following `Client` class represents a new customer registered for a credit. We can create instances with a given configuration of the independent variables. Note that we can use the `get_prob_of_default` method with a trained `model` and `woe_mapper` to calculate the probability of default. We can also update a Client's attributes via the `update_attribute` method."
   ]
  },
  {
   "cell_type": "code",
   "execution_count": 17,
   "metadata": {},
   "outputs": [],
   "source": [
    "class Client:\n",
    "    \n",
    "    def __init__(\n",
    "        self,\n",
    "        customer_age: str,\n",
    "        months_at_address: str,\n",
    "        residence_status: str,\n",
    "        employment: str,\n",
    "        income: str,\n",
    "        months_with_bank: str,\n",
    "        other_credits: str,\n",
    "        balance: str\n",
    "    ):\n",
    "        self.customer_age = customer_age\n",
    "        self.months_at_address = months_at_address\n",
    "        self.residence_status = residence_status\n",
    "        self.employment = employment\n",
    "        self.income = income\n",
    "        self.months_with_bank = months_with_bank\n",
    "        self.other_credits = other_credits\n",
    "        self.balance = balance\n",
    "        \n",
    "    def to_dict(self) -> Dict:\n",
    "        return self.__dict__\n",
    "        \n",
    "    def update_attribute(self, name: str, value: str):\n",
    "        valid_attributes = list(self.to_dict().keys())\n",
    "        if name not in valid_attributes:\n",
    "            raise ValueError(f\"Attribute {name} not found in {valid_attributes}\")\n",
    "        setattr(self, name, value)\n",
    "        return self\n",
    "        \n",
    "    def get_prob_of_default(self, model: LogisticRegression, woe_mapper: WoeMapper) -> float:\n",
    "        df = woe_mapper.transform(self.to_dict())\n",
    "        prob_of_default, _ = model.predict_proba(df).tolist().pop()\n",
    "        return prob_of_default\n"
   ]
  },
  {
   "cell_type": "markdown",
   "metadata": {},
   "source": [
    "We can create a \"low risk\" and \"high risk\" customer:"
   ]
  },
  {
   "cell_type": "code",
   "execution_count": 18,
   "metadata": {},
   "outputs": [
    {
     "name": "stdout",
     "output_type": "stream",
     "text": [
      "Low risk client probablity of default 0.24\n",
      "High risk client probablity of default 0.72\n"
     ]
    }
   ],
   "source": [
    "low_risk_client = Client(\n",
    "    customer_age=\"(40, 46)\",\n",
    "    months_at_address=\"(83, inf)\",\n",
    "    residence_status=\"HomeOwner\",\n",
    "    employment=\"Employed\",\n",
    "    income=\"(47000, inf)\",\n",
    "    months_with_bank=\"(45, 71)\",\n",
    "    other_credits=\"Yes\",\n",
    "    balance=\"(1597, inf)\"\n",
    ")\n",
    "\n",
    "high_risk_client = Client(\n",
    "    customer_age=\"(-inf, 37)\",\n",
    "    months_at_address=\"(-inf, 23)\",\n",
    "    residence_status=\"Tenant\",\n",
    "    employment=\"Unknown\",\n",
    "    income=\"(-inf, 29000)\",\n",
    "    months_with_bank=\"(-inf, 12)\",\n",
    "    other_credits=\"No\",\n",
    "    balance=\"(558, 1254)\"\n",
    ")\n",
    "\n",
    "print(\n",
    "    \"Low risk client probablity of default\",\n",
    "    round(low_risk_client.get_prob_of_default(model=clf, woe_mapper=woe_mapper), 2)\n",
    ")\n",
    "\n",
    "print(\n",
    "    \"High risk client probablity of default\",\n",
    "    round(high_risk_client.get_prob_of_default(model=clf, woe_mapper=woe_mapper), 2)\n",
    ")"
   ]
  },
  {
   "cell_type": "markdown",
   "metadata": {},
   "source": [
    "The `Low Risk Client` has a probablity of defualt of `24%` while the `High Risk Client` has a probablity of default of `72%`. We can see that the probablity of default for the lower risk client, assuming all their attributes maintain the same, will decrease even further if the `months_with_bank` value increases:"
   ]
  },
  {
   "cell_type": "code",
   "execution_count": 19,
   "metadata": {},
   "outputs": [
    {
     "data": {
      "text/plain": [
       "{'customer_age': ['(-inf, 37)',\n",
       "  '(37, 40)',\n",
       "  '(40, 46)',\n",
       "  '(46, 58)',\n",
       "  '(58, inf)'],\n",
       " 'months_at_address': ['(-inf, 23)', '(23, 83)', '(83, inf)'],\n",
       " 'residence_status': ['Tenant', 'HomeOwner', 'Other'],\n",
       " 'employment': ['Unknown', 'Employed'],\n",
       " 'income': ['(-inf, 29000)',\n",
       "  '(29000, 33000)',\n",
       "  '(33000, 42000)',\n",
       "  '(42000, 47000)',\n",
       "  '(47000, inf)'],\n",
       " 'months_with_bank': ['(-inf, 12)', '(12, 45)', '(45, 71)', '(71, inf)'],\n",
       " 'other_credits': ['Yes', 'No'],\n",
       " 'balance': ['(-inf, 558)', '(558, 1254)', '(1254, 1597)', '(1597, inf)']}"
      ]
     },
     "execution_count": 19,
     "metadata": {},
     "output_type": "execute_result"
    }
   ],
   "source": [
    "categories = {\n",
    "    c: [categ[\"label\"] for categ in bins[c]] if c in bins.keys() else data[c].unique().tolist()\n",
    "    for c in data.drop(\"status\", axis=1).columns\n",
    "}\n",
    "\n",
    "categories"
   ]
  },
  {
   "cell_type": "code",
   "execution_count": 20,
   "metadata": {},
   "outputs": [
    {
     "data": {
      "text/plain": [
       "<matplotlib.axes._subplots.AxesSubplot at 0x7ff50a50c810>"
      ]
     },
     "execution_count": 20,
     "metadata": {},
     "output_type": "execute_result"
    },
    {
     "data": {
      "image/png": "[encoded data removed]",
      "text/plain": [
       "<Figure size 576x360 with 1 Axes>"
      ]
     },
     "metadata": {
      "needs_background": "light"
     },
     "output_type": "display_data"
    }
   ],
   "source": [
    "pd.DataFrame(\n",
    "    [\n",
    "        {\n",
    "            categ: low_risk_client.update_attribute(\"months_with_bank\", categ).get_prob_of_default(\n",
    "                model=clf,\n",
    "                woe_mapper=woe_mapper\n",
    "            )\n",
    "            for categ in categories[\"months_with_bank\"]\n",
    "        }\n",
    "    ]\n",
    ").T.plot.bar(\n",
    "    title=\"[Low Risk Client] Prob. of Default Using Different months_with_bank Values\",\n",
    "    figsize=(8, 5)\n",
    ")"
   ]
  },
  {
   "cell_type": "markdown",
   "metadata": {},
   "source": [
    "#### Q4 (2 pts) Predictions - Find best configurations\n",
    "\n",
    "Create a python function called `find_best_configuration` that returns the best value an individual client can have for a given category (feature).\n",
    "\n",
    "Arguments:\n",
    "* `client`: A `Client` instance.\n",
    "* `feature`: a string that represents a valid feature name.\n",
    "\n",
    "Implementation: iterate over the possible values of a feature (category) and return the category that best improves (reduces) the probability of default.\n",
    "\n",
    "Examples:\n",
    "\n",
    "1. Calling `find_best_configuration(low_risk_client, \"months_with_bank\")` should return `'(71, inf)'`.\n",
    "2. Calling `find_best_configuration(high_risk_client, \"residence_status\")` should return `'Other'`.\n",
    " \n",
    "**Hint**: You can use the `categories` dictionary to get the mappings between a \"feature\" and the possible categorical values."
   ]
  },
  {
   "cell_type": "code",
   "execution_count": 21,
   "metadata": {},
   "outputs": [],
   "source": [
    "# Your code here\n",
    "def find_best_configuration(client: Client, feature: str) -> str:\n",
    "    pass"
   ]
  },
  {
   "cell_type": "code",
   "execution_count": null,
   "metadata": {},
   "outputs": [],
   "source": []
  },
  {
   "cell_type": "markdown",
   "metadata": {},
   "source": [
    "## Model Alternatives\n",
    "\n",
    "\n",
    "The current trained model `clf` is a simple LinearRegression with the following F1 Score:\n"
   ]
  },
  {
   "cell_type": "code",
   "execution_count": 22,
   "metadata": {},
   "outputs": [
    {
     "name": "stdout",
     "output_type": "stream",
     "text": [
      "F1 Score from logistic regression model: 0.8021\n"
     ]
    }
   ],
   "source": [
    "print(f\"F1 Score from logistic regression model: {round(metrics.f1_score(y, clf.predict(x)), 4)}\")"
   ]
  },
  {
   "cell_type": "markdown",
   "metadata": {},
   "source": [
    "Can we imporve the performance by using a different model?\n",
    "\n",
    "#### Q5 (3 pts) Model Alternatives - Benchmarking\n",
    "\n",
    "Select a different classification model from the `sklearn` library and compare the resulting F1 score. Answer the following question and explain why do you think you got the results:\n",
    "\n",
    "> Does the model outperform the logistic regression? Explain what happened.\n",
    "\n",
    "You can select your model from the [official documentation](https://scikit-learn.org/stable/supervised_learning.html). Some recommended models:\n",
    "* [Support Vector Machines](https://scikit-learn.org/stable/modules/svm.html#classification)\n",
    "* [Decision Tree Classifier](https://scikit-learn.org/stable/modules/tree.html#classification)\n",
    "* [Random Forest Classifier](https://scikit-learn.org/stable/modules/ensemble.html#forests-of-randomized-trees)\n",
    "* [Gradient Boosting Trees](https://scikit-learn.org/stable/modules/ensemble.html#gradient-tree-boosting)\n",
    "\n",
    "**Hint**: Remember that you can use `x` & `y` for training and `x` to perform the predictions. "
   ]
  },
  {
   "cell_type": "code",
   "execution_count": 23,
   "metadata": {},
   "outputs": [],
   "source": [
    "# Your code here\n"
   ]
  },
  {
   "cell_type": "markdown",
   "metadata": {},
   "source": [
    "..write your answer here.."
   ]
  },
  {
   "cell_type": "markdown",
   "metadata": {},
   "source": [
    "## Intereste Rate\n",
    "\n",
    "\n",
    "The following are utility classes & functions developed during previous sessions:\n",
    "* `Cashflow` (class): represents a cashflow; allows easily calculating the present value.\n",
    "* `Amortization` (class): computes an amortization table.\n",
    "* `irr` (function): calculates the interal rate of return for a list of cashflows."
   ]
  },
  {
   "cell_type": "code",
   "execution_count": 24,
   "metadata": {},
   "outputs": [],
   "source": [
    "# Utility: Cashflow class \n",
    "\n",
    "class Cashflow:\n",
    "    \n",
    "    def __init__(self, amount: float, t: int):\n",
    "        self.amount = amount\n",
    "        self.t = t\n",
    "\n",
    "    def __repr__(self) -> str:\n",
    "        return f\"Cashflow({self.amount}, {self.t})\"\n",
    "        \n",
    "    def present_value(self, r: float) -> 'Cashflow':\n",
    "        pv_amount = self.amount * (1 + r) ** (-self.t)\n",
    "        return Cashflow(amount=pv_amount, t=0)"
   ]
  },
  {
   "cell_type": "code",
   "execution_count": 25,
   "metadata": {},
   "outputs": [],
   "source": [
    "# Utility: IRR function\n",
    "\n",
    "def irr(investment: List[Cashflow]) -> float:\n",
    "    cfs_dict = {cf.t: cf.amount for cf in investment}\n",
    "    cfs = [cfs_dict.get(i, 0) for i in range(max(cfs_dict.keys()) + 1)]\n",
    "    # Reverse the cashflow list to have the higher-order powers first\n",
    "    solution = np.roots(cfs[::-1])\n",
    "    # Select only the solutions that make sense\n",
    "    # Criteria: only real-solutions\n",
    "    #candidate_filter = (solution.imag == 0) & (solution.real > 0)\n",
    "    real_solution = solution[solution.imag == 0].real\n",
    "    # Get back the \"rates\": rate =  1 / sol - 1\n",
    "    rates = 1 / real_solution - 1\n",
    "    # Return the nearest to zero\n",
    "    return np.min(rates[rates > 0]) if any(rates > 0) else np.max(rates)"
   ]
  },
  {
   "cell_type": "code",
   "execution_count": 26,
   "metadata": {},
   "outputs": [],
   "source": [
    "# Utility: Amortization class (you can modify this code)\n",
    "\n",
    "class Amortization:\n",
    "    \n",
    "    def __init__(self, amount: float, rate: float, n: int):\n",
    "        self.amount = amount\n",
    "        self.rate = rate\n",
    "        self.n = n\n",
    "        \n",
    "    def get_annuity(self) -> float:\n",
    "        return self.rate * self.amount / (1 - (1+self.rate)**(-self.n))\n",
    "    \n",
    "    def to_cashflows(self, t: Optional[int] = None) -> List[Cashflow]:\n",
    "        if t is None:\n",
    "            t = self.n\n",
    "        if not (0 < t <= self.n):\n",
    "            raise ValueError(f\"Use 0 < t <= n {self.n}\")\n",
    "        annuity = self.get_annuity()\n",
    "        return [\n",
    "            Cashflow(amount=-self.amount, t=0),\n",
    "            *[Cashflow(amount=annuity, t=i+1) for i in range(t)]\n",
    "        ]\n",
    "    \n",
    "    def get_table(self) -> pd.DataFrame:\n",
    "        \"\"\"\n",
    "        b: Balance\n",
    "        a: Annuity\n",
    "        t: Time\n",
    "        p: Principal payment\n",
    "        i: Interest payment\n",
    "        \"\"\"\n",
    "        b = self.amount # Initial balance\n",
    "        a = self.get_annuity() # Constant annuity\n",
    "        rows = [{\"t\": 0, \"balance\": b}]\n",
    "        for t in range(1, self.n + 1):\n",
    "            i = self.rate * b\n",
    "            p = a - i\n",
    "            b = b - p\n",
    "            rows.append(\n",
    "                {\n",
    "                    \"t\": t,\n",
    "                    \"principal\": p,\n",
    "                    \"interest\": i,\n",
    "                    \"annuity\": a,\n",
    "                    \"balance\": b\n",
    "                }\n",
    "            )\n",
    "        return pd.DataFrame(rows)\n",
    "    \n",
    "    \n",
    "    def get_enriched_table(self, prob_of_default: float, loss_given_default: float) -> pd.DataFrame:\n",
    "        # TODO: complete this method\n",
    "        pass\n",
    "    \n",
    "    def expected_irr(self, prob_of_default: float, loss_given_default: float) -> float:\n",
    "        # TODO: complete this method\n",
    "        pass"
   ]
  },
  {
   "cell_type": "markdown",
   "metadata": {},
   "source": [
    "We can use the amortization class to represent a simple loan with the following characteristics:\n",
    "* Financial institution \"minimum acceptable interest rate\" at 30%\n",
    "* Loan amount: $10,000.00\n",
    "* (Temporal) Interest rate: 25%\n",
    "* 5 Periods"
   ]
  },
  {
   "cell_type": "code",
   "execution_count": 27,
   "metadata": {},
   "outputs": [
    {
     "data": {
      "text/html": [
       "<style  type=\"text/css\" >\n",
       "</style><table id=\"T_09f3c5b8_527b_11ec_8f9f_58961d9584c6\" ><thead>    <tr>        <th class=\"blank level0\" ></th>        <th class=\"col_heading level0 col0\" >balance</th>        <th class=\"col_heading level0 col1\" >principal</th>        <th class=\"col_heading level0 col2\" >interest</th>        <th class=\"col_heading level0 col3\" >annuity</th>    </tr>    <tr>        <th class=\"index_name level0\" >t</th>        <th class=\"blank\" ></th>        <th class=\"blank\" ></th>        <th class=\"blank\" ></th>        <th class=\"blank\" ></th>    </tr></thead><tbody>\n",
       "                <tr>\n",
       "                        <th id=\"T_09f3c5b8_527b_11ec_8f9f_58961d9584c6level0_row0\" class=\"row_heading level0 row0\" >0</th>\n",
       "                        <td id=\"T_09f3c5b8_527b_11ec_8f9f_58961d9584c6row0_col0\" class=\"data row0 col0\" >10000.0000</td>\n",
       "                        <td id=\"T_09f3c5b8_527b_11ec_8f9f_58961d9584c6row0_col1\" class=\"data row0 col1\" >nan</td>\n",
       "                        <td id=\"T_09f3c5b8_527b_11ec_8f9f_58961d9584c6row0_col2\" class=\"data row0 col2\" >nan</td>\n",
       "                        <td id=\"T_09f3c5b8_527b_11ec_8f9f_58961d9584c6row0_col3\" class=\"data row0 col3\" >nan</td>\n",
       "            </tr>\n",
       "            <tr>\n",
       "                        <th id=\"T_09f3c5b8_527b_11ec_8f9f_58961d9584c6level0_row1\" class=\"row_heading level0 row1\" >1</th>\n",
       "                        <td id=\"T_09f3c5b8_527b_11ec_8f9f_58961d9584c6row1_col0\" class=\"data row1 col0\" >8781.5326</td>\n",
       "                        <td id=\"T_09f3c5b8_527b_11ec_8f9f_58961d9584c6row1_col1\" class=\"data row1 col1\" >1218.4674</td>\n",
       "                        <td id=\"T_09f3c5b8_527b_11ec_8f9f_58961d9584c6row1_col2\" class=\"data row1 col2\" >2500.0000</td>\n",
       "                        <td id=\"T_09f3c5b8_527b_11ec_8f9f_58961d9584c6row1_col3\" class=\"data row1 col3\" >3718.4674</td>\n",
       "            </tr>\n",
       "            <tr>\n",
       "                        <th id=\"T_09f3c5b8_527b_11ec_8f9f_58961d9584c6level0_row2\" class=\"row_heading level0 row2\" >2</th>\n",
       "                        <td id=\"T_09f3c5b8_527b_11ec_8f9f_58961d9584c6row2_col0\" class=\"data row2 col0\" >7258.4484</td>\n",
       "                        <td id=\"T_09f3c5b8_527b_11ec_8f9f_58961d9584c6row2_col1\" class=\"data row2 col1\" >1523.0842</td>\n",
       "                        <td id=\"T_09f3c5b8_527b_11ec_8f9f_58961d9584c6row2_col2\" class=\"data row2 col2\" >2195.3832</td>\n",
       "                        <td id=\"T_09f3c5b8_527b_11ec_8f9f_58961d9584c6row2_col3\" class=\"data row2 col3\" >3718.4674</td>\n",
       "            </tr>\n",
       "            <tr>\n",
       "                        <th id=\"T_09f3c5b8_527b_11ec_8f9f_58961d9584c6level0_row3\" class=\"row_heading level0 row3\" >3</th>\n",
       "                        <td id=\"T_09f3c5b8_527b_11ec_8f9f_58961d9584c6row3_col0\" class=\"data row3 col0\" >5354.5931</td>\n",
       "                        <td id=\"T_09f3c5b8_527b_11ec_8f9f_58961d9584c6row3_col1\" class=\"data row3 col1\" >1903.8553</td>\n",
       "                        <td id=\"T_09f3c5b8_527b_11ec_8f9f_58961d9584c6row3_col2\" class=\"data row3 col2\" >1814.6121</td>\n",
       "                        <td id=\"T_09f3c5b8_527b_11ec_8f9f_58961d9584c6row3_col3\" class=\"data row3 col3\" >3718.4674</td>\n",
       "            </tr>\n",
       "            <tr>\n",
       "                        <th id=\"T_09f3c5b8_527b_11ec_8f9f_58961d9584c6level0_row4\" class=\"row_heading level0 row4\" >4</th>\n",
       "                        <td id=\"T_09f3c5b8_527b_11ec_8f9f_58961d9584c6row4_col0\" class=\"data row4 col0\" >2974.7739</td>\n",
       "                        <td id=\"T_09f3c5b8_527b_11ec_8f9f_58961d9584c6row4_col1\" class=\"data row4 col1\" >2379.8191</td>\n",
       "                        <td id=\"T_09f3c5b8_527b_11ec_8f9f_58961d9584c6row4_col2\" class=\"data row4 col2\" >1338.6483</td>\n",
       "                        <td id=\"T_09f3c5b8_527b_11ec_8f9f_58961d9584c6row4_col3\" class=\"data row4 col3\" >3718.4674</td>\n",
       "            </tr>\n",
       "            <tr>\n",
       "                        <th id=\"T_09f3c5b8_527b_11ec_8f9f_58961d9584c6level0_row5\" class=\"row_heading level0 row5\" >5</th>\n",
       "                        <td id=\"T_09f3c5b8_527b_11ec_8f9f_58961d9584c6row5_col0\" class=\"data row5 col0\" >0.0000</td>\n",
       "                        <td id=\"T_09f3c5b8_527b_11ec_8f9f_58961d9584c6row5_col1\" class=\"data row5 col1\" >2974.7739</td>\n",
       "                        <td id=\"T_09f3c5b8_527b_11ec_8f9f_58961d9584c6row5_col2\" class=\"data row5 col2\" >743.6935</td>\n",
       "                        <td id=\"T_09f3c5b8_527b_11ec_8f9f_58961d9584c6row5_col3\" class=\"data row5 col3\" >3718.4674</td>\n",
       "            </tr>\n",
       "    </tbody></table>"
      ],
      "text/plain": [
       "<pandas.io.formats.style.Styler at 0x7ff55050db90>"
      ]
     },
     "execution_count": 27,
     "metadata": {},
     "output_type": "execute_result"
    }
   ],
   "source": [
    "# Example amortization table\n",
    "marr = 0.30\n",
    "amount = 10000\n",
    "rate = 0.25\n",
    "n = 5\n",
    "\n",
    "# Create an amortization instance\n",
    "amortization = Amortization(amount=amount, rate=rate, n=n)\n",
    "amortization.get_table().set_index(\"t\").style.format('{:.4f}')"
   ]
  },
  {
   "cell_type": "markdown",
   "metadata": {},
   "source": [
    "Consider a new customer requests a loan. This is a low-risk client with the following characteristics:\n",
    "\n",
    "* Customer Age: 48\n",
    "* Month at Address: 80\n",
    "* Residence Status: Home Owner\n",
    "* Employment: Employed\n",
    "* Income: 120,000\n",
    "* Months with Bank: 70\n",
    "* Other Credits: Yes\n",
    "* Balance: 25000"
   ]
  },
  {
   "cell_type": "code",
   "execution_count": 28,
   "metadata": {},
   "outputs": [],
   "source": [
    "new_client = Client(\n",
    "    customer_age=\"(46, 58)\",\n",
    "    months_at_address=\"(23, 83)\",\n",
    "    residence_status=\"HomeOwner\",\n",
    "    employment=\"Employed\",\n",
    "    income=\"(47000, inf)\",\n",
    "    months_with_bank=\"(45, 71)\",\n",
    "    other_credits=\"Yes\",\n",
    "    balance=\"(1597, inf)\"\n",
    ")"
   ]
  },
  {
   "cell_type": "code",
   "execution_count": 29,
   "metadata": {},
   "outputs": [
    {
     "name": "stdout",
     "output_type": "stream",
     "text": [
      "New client's probability of default: 19.99 %\n"
     ]
    }
   ],
   "source": [
    "prob_of_default = new_client.get_prob_of_default(model=clf, woe_mapper=woe_mapper)\n",
    "print(\"New client's probability of default: %0.2f\" % (100 * prob_of_default), \"%\")"
   ]
  },
  {
   "cell_type": "markdown",
   "metadata": {},
   "source": [
    "What's the best interest rate we can use for an estimated probability of default of 20%? Answer the following exercises to calculate the optimal interest rate."
   ]
  },
  {
   "attachments": {
    "image-2.png": {
     "image/png": "[encoded data removed]"
    }
   },
   "cell_type": "markdown",
   "metadata": {},
   "source": [
    "#### Q6 (2 pts) Intereste Rate - Enhanced Amortization Table\n",
    "\n",
    "Update the `Amortization` class with a `get_enriched_table` method such that you can retrieve and enhanced amortization table with the following extra columns:\n",
    "* `irr` contains the internal rate of return\n",
    "* `prob` contains the conditional probability of default\n",
    "* `exp_loss` contains the expected loss\n",
    "\n",
    "The `get_enriched_table` method should allow the following arguments:\n",
    "* `prob_of_default`\n",
    "* `loss_given_default`\n",
    "\n",
    "Usage example:\n",
    "![image-2.png](attachment:image-2.png)"
   ]
  },
  {
   "cell_type": "code",
   "execution_count": 30,
   "metadata": {},
   "outputs": [
    {
     "data": {
      "text/html": [
       "<style  type=\"text/css\" >\n",
       "</style><table id=\"T_09fb52f6_527b_11ec_8f9f_58961d9584c6\" ><thead>    <tr>        <th class=\"blank level0\" ></th>        <th class=\"col_heading level0 col0\" >balance</th>        <th class=\"col_heading level0 col1\" >principal</th>        <th class=\"col_heading level0 col2\" >interest</th>        <th class=\"col_heading level0 col3\" >annuity</th>        <th class=\"col_heading level0 col4\" >irr</th>        <th class=\"col_heading level0 col5\" >prob</th>        <th class=\"col_heading level0 col6\" >exp_loss</th>    </tr>    <tr>        <th class=\"index_name level0\" >t</th>        <th class=\"blank\" ></th>        <th class=\"blank\" ></th>        <th class=\"blank\" ></th>        <th class=\"blank\" ></th>        <th class=\"blank\" ></th>        <th class=\"blank\" ></th>        <th class=\"blank\" ></th>    </tr></thead><tbody>\n",
       "                <tr>\n",
       "                        <th id=\"T_09fb52f6_527b_11ec_8f9f_58961d9584c6level0_row0\" class=\"row_heading level0 row0\" >0.0</th>\n",
       "                        <td id=\"T_09fb52f6_527b_11ec_8f9f_58961d9584c6row0_col0\" class=\"data row0 col0\" >10000.0000</td>\n",
       "                        <td id=\"T_09fb52f6_527b_11ec_8f9f_58961d9584c6row0_col1\" class=\"data row0 col1\" >nan</td>\n",
       "                        <td id=\"T_09fb52f6_527b_11ec_8f9f_58961d9584c6row0_col2\" class=\"data row0 col2\" >nan</td>\n",
       "                        <td id=\"T_09fb52f6_527b_11ec_8f9f_58961d9584c6row0_col3\" class=\"data row0 col3\" >nan</td>\n",
       "                        <td id=\"T_09fb52f6_527b_11ec_8f9f_58961d9584c6row0_col4\" class=\"data row0 col4\" >0.0000</td>\n",
       "                        <td id=\"T_09fb52f6_527b_11ec_8f9f_58961d9584c6row0_col5\" class=\"data row0 col5\" >0.2000</td>\n",
       "                        <td id=\"T_09fb52f6_527b_11ec_8f9f_58961d9584c6row0_col6\" class=\"data row0 col6\" >1000.0000</td>\n",
       "            </tr>\n",
       "            <tr>\n",
       "                        <th id=\"T_09fb52f6_527b_11ec_8f9f_58961d9584c6level0_row1\" class=\"row_heading level0 row1\" >1.0</th>\n",
       "                        <td id=\"T_09fb52f6_527b_11ec_8f9f_58961d9584c6row1_col0\" class=\"data row1 col0\" >8781.5326</td>\n",
       "                        <td id=\"T_09fb52f6_527b_11ec_8f9f_58961d9584c6row1_col1\" class=\"data row1 col1\" >1218.4674</td>\n",
       "                        <td id=\"T_09fb52f6_527b_11ec_8f9f_58961d9584c6row1_col2\" class=\"data row1 col2\" >2500.0000</td>\n",
       "                        <td id=\"T_09fb52f6_527b_11ec_8f9f_58961d9584c6row1_col3\" class=\"data row1 col3\" >3718.4674</td>\n",
       "                        <td id=\"T_09fb52f6_527b_11ec_8f9f_58961d9584c6row1_col4\" class=\"data row1 col4\" >-0.6282</td>\n",
       "                        <td id=\"T_09fb52f6_527b_11ec_8f9f_58961d9584c6row1_col5\" class=\"data row1 col5\" >0.1600</td>\n",
       "                        <td id=\"T_09fb52f6_527b_11ec_8f9f_58961d9584c6row1_col6\" class=\"data row1 col6\" >878.1533</td>\n",
       "            </tr>\n",
       "            <tr>\n",
       "                        <th id=\"T_09fb52f6_527b_11ec_8f9f_58961d9584c6level0_row2\" class=\"row_heading level0 row2\" >2.0</th>\n",
       "                        <td id=\"T_09fb52f6_527b_11ec_8f9f_58961d9584c6row2_col0\" class=\"data row2 col0\" >7258.4484</td>\n",
       "                        <td id=\"T_09fb52f6_527b_11ec_8f9f_58961d9584c6row2_col1\" class=\"data row2 col1\" >1523.0842</td>\n",
       "                        <td id=\"T_09fb52f6_527b_11ec_8f9f_58961d9584c6row2_col2\" class=\"data row2 col2\" >2195.3832</td>\n",
       "                        <td id=\"T_09fb52f6_527b_11ec_8f9f_58961d9584c6row2_col3\" class=\"data row2 col3\" >3718.4674</td>\n",
       "                        <td id=\"T_09fb52f6_527b_11ec_8f9f_58961d9584c6row2_col4\" class=\"data row2 col4\" >-0.1766</td>\n",
       "                        <td id=\"T_09fb52f6_527b_11ec_8f9f_58961d9584c6row2_col5\" class=\"data row2 col5\" >0.1280</td>\n",
       "                        <td id=\"T_09fb52f6_527b_11ec_8f9f_58961d9584c6row2_col6\" class=\"data row2 col6\" >725.8448</td>\n",
       "            </tr>\n",
       "            <tr>\n",
       "                        <th id=\"T_09fb52f6_527b_11ec_8f9f_58961d9584c6level0_row3\" class=\"row_heading level0 row3\" >3.0</th>\n",
       "                        <td id=\"T_09fb52f6_527b_11ec_8f9f_58961d9584c6row3_col0\" class=\"data row3 col0\" >5354.5931</td>\n",
       "                        <td id=\"T_09fb52f6_527b_11ec_8f9f_58961d9584c6row3_col1\" class=\"data row3 col1\" >1903.8553</td>\n",
       "                        <td id=\"T_09fb52f6_527b_11ec_8f9f_58961d9584c6row3_col2\" class=\"data row3 col2\" >1814.6121</td>\n",
       "                        <td id=\"T_09fb52f6_527b_11ec_8f9f_58961d9584c6row3_col3\" class=\"data row3 col3\" >3718.4674</td>\n",
       "                        <td id=\"T_09fb52f6_527b_11ec_8f9f_58961d9584c6row3_col4\" class=\"data row3 col4\" >0.0567</td>\n",
       "                        <td id=\"T_09fb52f6_527b_11ec_8f9f_58961d9584c6row3_col5\" class=\"data row3 col5\" >0.1024</td>\n",
       "                        <td id=\"T_09fb52f6_527b_11ec_8f9f_58961d9584c6row3_col6\" class=\"data row3 col6\" >535.4593</td>\n",
       "            </tr>\n",
       "            <tr>\n",
       "                        <th id=\"T_09fb52f6_527b_11ec_8f9f_58961d9584c6level0_row4\" class=\"row_heading level0 row4\" >4.0</th>\n",
       "                        <td id=\"T_09fb52f6_527b_11ec_8f9f_58961d9584c6row4_col0\" class=\"data row4 col0\" >2974.7739</td>\n",
       "                        <td id=\"T_09fb52f6_527b_11ec_8f9f_58961d9584c6row4_col1\" class=\"data row4 col1\" >2379.8191</td>\n",
       "                        <td id=\"T_09fb52f6_527b_11ec_8f9f_58961d9584c6row4_col2\" class=\"data row4 col2\" >1338.6483</td>\n",
       "                        <td id=\"T_09fb52f6_527b_11ec_8f9f_58961d9584c6row4_col3\" class=\"data row4 col3\" >3718.4674</td>\n",
       "                        <td id=\"T_09fb52f6_527b_11ec_8f9f_58961d9584c6row4_col4\" class=\"data row4 col4\" >0.1801</td>\n",
       "                        <td id=\"T_09fb52f6_527b_11ec_8f9f_58961d9584c6row4_col5\" class=\"data row4 col5\" >0.0819</td>\n",
       "                        <td id=\"T_09fb52f6_527b_11ec_8f9f_58961d9584c6row4_col6\" class=\"data row4 col6\" >297.4774</td>\n",
       "            </tr>\n",
       "            <tr>\n",
       "                        <th id=\"T_09fb52f6_527b_11ec_8f9f_58961d9584c6level0_row5\" class=\"row_heading level0 row5\" >5.0</th>\n",
       "                        <td id=\"T_09fb52f6_527b_11ec_8f9f_58961d9584c6row5_col0\" class=\"data row5 col0\" >0.0000</td>\n",
       "                        <td id=\"T_09fb52f6_527b_11ec_8f9f_58961d9584c6row5_col1\" class=\"data row5 col1\" >2974.7739</td>\n",
       "                        <td id=\"T_09fb52f6_527b_11ec_8f9f_58961d9584c6row5_col2\" class=\"data row5 col2\" >743.6935</td>\n",
       "                        <td id=\"T_09fb52f6_527b_11ec_8f9f_58961d9584c6row5_col3\" class=\"data row5 col3\" >3718.4674</td>\n",
       "                        <td id=\"T_09fb52f6_527b_11ec_8f9f_58961d9584c6row5_col4\" class=\"data row5 col4\" >0.2500</td>\n",
       "                        <td id=\"T_09fb52f6_527b_11ec_8f9f_58961d9584c6row5_col5\" class=\"data row5 col5\" >0.3277</td>\n",
       "                        <td id=\"T_09fb52f6_527b_11ec_8f9f_58961d9584c6row5_col6\" class=\"data row5 col6\" >0.0000</td>\n",
       "            </tr>\n",
       "    </tbody></table>"
      ],
      "text/plain": [
       "<pandas.io.formats.style.Styler at 0x7ff50a102910>"
      ]
     },
     "execution_count": 30,
     "metadata": {},
     "output_type": "execute_result"
    }
   ],
   "source": [
    "# The following code should run correctly:\n",
    "enriched_table = amortization.get_enriched_table(prob_of_default=0.20, loss_given_default=0.5)\n",
    "enriched_table.set_index(\"t\").style.format('{:.4f}')"
   ]
  },
  {
   "cell_type": "markdown",
   "metadata": {},
   "source": [
    "#### Q7 (2 pts) Intereste Rate - Expected IRR\n",
    "\n",
    "Update the `Amortization` class with an `expected_irr` method such that you can get the expected value of the interal rate of return.\n",
    "\n",
    "The `expected_irr` method should allow the following arguments:\n",
    "* `prob_of_default`\n",
    "* `loss_given_default`\n",
    "\n",
    "Usage example:\n"
   ]
  },
  {
   "cell_type": "code",
   "execution_count": 31,
   "metadata": {},
   "outputs": [
    {
     "name": "stdout",
     "output_type": "stream",
     "text": [
      "-0.02061880721426293\n"
     ]
    }
   ],
   "source": [
    "# The following code should run correctly:\n",
    "expected_irr =  amortization.expected_irr(prob_of_default=0.20, loss_given_default=0.5)\n",
    "print(expected_irr)"
   ]
  },
  {
   "cell_type": "markdown",
   "metadata": {},
   "source": [
    "#### Q8 (4 pts) Intereste Rate - Search Optimal Rate\n",
    "\n",
    "Create a function called `search_optimal_rate` that returns the interest rate that makes the `E[IRR] = 0`.\n",
    "\n",
    "Arguments:\n",
    "* amortization_amount\n",
    "* amortization_periods\n",
    "* prob_of_default\n",
    "* loss_given_default\n",
    "* min_rate\n",
    "* max_rate\n",
    "* target_expected_irr"
   ]
  },
  {
   "cell_type": "code",
   "execution_count": 32,
   "metadata": {},
   "outputs": [],
   "source": [
    "# Your code here\n",
    "def search_optimal_rate(\n",
    "        amortization_amount: float,\n",
    "        amortization_periods: int,\n",
    "        prob_of_default: float,\n",
    "        loss_given_default: float,\n",
    "        min_rate: float,\n",
    "        max_rate: float,\n",
    "        target_expected_irr: float = 0\n",
    ") -> float:\n",
    "    # TODO: complete this function\n",
    "    pass"
   ]
  },
  {
   "cell_type": "code",
   "execution_count": 33,
   "metadata": {},
   "outputs": [
    {
     "name": "stdout",
     "output_type": "stream",
     "text": [
      "Optimal interest rate: 26.86%\n"
     ]
    }
   ],
   "source": [
    "# This code should run correctly\n",
    "optimal_rate = search_optimal_rate(\n",
    "    amortization_amount=10000,\n",
    "    amortization_periods=5,\n",
    "    prob_of_default=0.2,\n",
    "    loss_given_default=0.5,\n",
    "    min_rate=0.06,\n",
    "    max_rate=0.75,\n",
    "    target_expected_irr=0\n",
    ")\n",
    "\n",
    "\n",
    "print(f\"Optimal interest rate: {round(100*optimal_rate, 2)}%\")"
   ]
  },
  {
   "cell_type": "code",
   "execution_count": 34,
   "metadata": {},
   "outputs": [
    {
     "data": {
      "text/plain": [
       "-0.005935108398823774"
      ]
     },
     "execution_count": 34,
     "metadata": {},
     "output_type": "execute_result"
    }
   ],
   "source": [
    "# Test: the E[IRR] should be near zero when using the optimal interest rate\n",
    "Amortization(\n",
    "    amount=10000,\n",
    "    rate=optimal_rate,\n",
    "    n=5\n",
    ").expected_irr(\n",
    "    prob_of_default=0.20,\n",
    "    loss_given_default=0.5\n",
    ")"
   ]
  },
  {
   "cell_type": "markdown",
   "metadata": {},
   "source": [
    "Once we have the `optimal interest rate` we can use that value to decide if the loan request should be accepted or rejected!\n",
    "\n",
    "Accept the request if `min_rate <= optimal_rate <= max_rate`. "
   ]
  }
 ],
 "metadata": {
  "kernelspec": {
   "display_name": "Python 3",
   "language": "python",
   "name": "python3"
  },
  "language_info": {
   "codemirror_mode": {
    "name": "ipython",
    "version": 3
   },
   "file_extension": ".py",
   "mimetype": "text/x-python",
   "name": "python",
   "nbconvert_exporter": "python",
   "pygments_lexer": "ipython3",
   "version": "3.7.3"
  }
 },
 "nbformat": 4,
 "nbformat_minor": 5
}
